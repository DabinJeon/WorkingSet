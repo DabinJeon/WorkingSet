{
 "cells": [
  {
   "cell_type": "code",
   "execution_count": 2,
   "metadata": {
    "scrolled": true
   },
   "outputs": [
    {
     "name": "stdout",
     "output_type": "stream",
     "text": [
      "Collecting mlxtend\n",
      "  Downloading mlxtend-0.17.3-py2.py3-none-any.whl (1.3 MB)\n",
      "Requirement already satisfied: pandas>=0.24.2 in c:\\programdata\\anaconda3\\lib\\site-packages (from mlxtend) (1.0.5)\n",
      "Requirement already satisfied: scipy>=1.2.1 in c:\\programdata\\anaconda3\\lib\\site-packages (from mlxtend) (1.5.0)\n",
      "Requirement already satisfied: scikit-learn>=0.20.3 in c:\\programdata\\anaconda3\\lib\\site-packages (from mlxtend) (0.23.1)\n",
      "Requirement already satisfied: joblib>=0.13.2 in c:\\programdata\\anaconda3\\lib\\site-packages (from mlxtend) (0.16.0)\n",
      "Requirement already satisfied: numpy>=1.16.2 in c:\\programdata\\anaconda3\\lib\\site-packages (from mlxtend) (1.18.5)\n",
      "Requirement already satisfied: setuptools in c:\\programdata\\anaconda3\\lib\\site-packages (from mlxtend) (49.2.0.post20200714)\n",
      "Requirement already satisfied: matplotlib>=3.0.0 in c:\\programdata\\anaconda3\\lib\\site-packages (from mlxtend) (3.2.2)\n",
      "Requirement already satisfied: pytz>=2017.2 in c:\\programdata\\anaconda3\\lib\\site-packages (from pandas>=0.24.2->mlxtend) (2020.1)\n",
      "Requirement already satisfied: python-dateutil>=2.6.1 in c:\\programdata\\anaconda3\\lib\\site-packages (from pandas>=0.24.2->mlxtend) (2.8.1)\n",
      "Requirement already satisfied: threadpoolctl>=2.0.0 in c:\\programdata\\anaconda3\\lib\\site-packages (from scikit-learn>=0.20.3->mlxtend) (2.1.0)\n",
      "Requirement already satisfied: kiwisolver>=1.0.1 in c:\\programdata\\anaconda3\\lib\\site-packages (from matplotlib>=3.0.0->mlxtend) (1.2.0)\n",
      "Requirement already satisfied: cycler>=0.10 in c:\\programdata\\anaconda3\\lib\\site-packages (from matplotlib>=3.0.0->mlxtend) (0.10.0)\n",
      "Requirement already satisfied: pyparsing!=2.0.4,!=2.1.2,!=2.1.6,>=2.0.1 in c:\\programdata\\anaconda3\\lib\\site-packages (from matplotlib>=3.0.0->mlxtend) (2.4.7)\n",
      "Requirement already satisfied: six>=1.5 in c:\\programdata\\anaconda3\\lib\\site-packages (from python-dateutil>=2.6.1->pandas>=0.24.2->mlxtend) (1.15.0)\n",
      "Installing collected packages: mlxtend\n",
      "Successfully installed mlxtend-0.17.3\n",
      "Note: you may need to restart the kernel to use updated packages.\n"
     ]
    }
   ],
   "source": [
    "pip install mlxtend "
   ]
  },
  {
   "cell_type": "markdown",
   "metadata": {},
   "source": [
    "### < APRIORI 분석 설명 >"
   ]
  },
  {
   "cell_type": "code",
   "execution_count": 3,
   "metadata": {},
   "outputs": [],
   "source": [
    "import pandas as pd\n",
    "from mlxtend.preprocessing import TransactionEncoder\n",
    "from mlxtend.frequent_patterns import apriori"
   ]
  },
  {
   "cell_type": "code",
   "execution_count": 5,
   "metadata": {},
   "outputs": [],
   "source": [
    "dataset=[['사과','치즈','생수'],\n",
    "['생수','호두','치즈','고등어'],\n",
    "['수박','사과','생수'],\n",
    "['생수','호두','치즈','옥수수']]"
   ]
  },
  {
   "cell_type": "code",
   "execution_count": 12,
   "metadata": {},
   "outputs": [
    {
     "data": {
      "text/plain": [
       "list"
      ]
     },
     "execution_count": 12,
     "metadata": {},
     "output_type": "execute_result"
    }
   ],
   "source": [
    "type(dataset)"
   ]
  },
  {
   "cell_type": "code",
   "execution_count": 7,
   "metadata": {},
   "outputs": [],
   "source": [
    "te = TransactionEncoder()\n",
    "te_ary = te.fit(dataset).transform(dataset)\n",
    "df = pd.DataFrame(te_ary, columns=te.columns_) \n",
    "#위에서 나온걸 보기 좋게 데이터프레임으로 변경"
   ]
  },
  {
   "cell_type": "code",
   "execution_count": 8,
   "metadata": {},
   "outputs": [
    {
     "data": {
      "text/html": [
       "<div>\n",
       "<style scoped>\n",
       "    .dataframe tbody tr th:only-of-type {\n",
       "        vertical-align: middle;\n",
       "    }\n",
       "\n",
       "    .dataframe tbody tr th {\n",
       "        vertical-align: top;\n",
       "    }\n",
       "\n",
       "    .dataframe thead th {\n",
       "        text-align: right;\n",
       "    }\n",
       "</style>\n",
       "<table border=\"1\" class=\"dataframe\">\n",
       "  <thead>\n",
       "    <tr style=\"text-align: right;\">\n",
       "      <th></th>\n",
       "      <th>고등어</th>\n",
       "      <th>사과</th>\n",
       "      <th>생수</th>\n",
       "      <th>수박</th>\n",
       "      <th>옥수수</th>\n",
       "      <th>치즈</th>\n",
       "      <th>호두</th>\n",
       "    </tr>\n",
       "  </thead>\n",
       "  <tbody>\n",
       "    <tr>\n",
       "      <th>0</th>\n",
       "      <td>False</td>\n",
       "      <td>True</td>\n",
       "      <td>True</td>\n",
       "      <td>False</td>\n",
       "      <td>False</td>\n",
       "      <td>True</td>\n",
       "      <td>False</td>\n",
       "    </tr>\n",
       "    <tr>\n",
       "      <th>1</th>\n",
       "      <td>True</td>\n",
       "      <td>False</td>\n",
       "      <td>True</td>\n",
       "      <td>False</td>\n",
       "      <td>False</td>\n",
       "      <td>True</td>\n",
       "      <td>True</td>\n",
       "    </tr>\n",
       "    <tr>\n",
       "      <th>2</th>\n",
       "      <td>False</td>\n",
       "      <td>True</td>\n",
       "      <td>True</td>\n",
       "      <td>True</td>\n",
       "      <td>False</td>\n",
       "      <td>False</td>\n",
       "      <td>False</td>\n",
       "    </tr>\n",
       "    <tr>\n",
       "      <th>3</th>\n",
       "      <td>False</td>\n",
       "      <td>False</td>\n",
       "      <td>True</td>\n",
       "      <td>False</td>\n",
       "      <td>True</td>\n",
       "      <td>True</td>\n",
       "      <td>True</td>\n",
       "    </tr>\n",
       "  </tbody>\n",
       "</table>\n",
       "</div>"
      ],
      "text/plain": [
       "     고등어     사과    생수     수박    옥수수     치즈     호두\n",
       "0  False   True  True  False  False   True  False\n",
       "1   True  False  True  False  False   True   True\n",
       "2  False   True  True   True  False  False  False\n",
       "3  False  False  True  False   True   True   True"
      ]
     },
     "execution_count": 8,
     "metadata": {},
     "output_type": "execute_result"
    }
   ],
   "source": [
    "df"
   ]
  },
  {
   "cell_type": "code",
   "execution_count": null,
   "metadata": {},
   "outputs": [],
   "source": [
    "# 가나다 순으로 Column값을 생성해서(고등어,사과,생수,수박,옥수수,치즈,호두) \n",
    "# 첫번쨰 (사과,치즈.생수) 데이터에 고등어가 표시되어이있므면 \n",
    "# True값으로 없으면 False값으로 표시한다. \n",
    "# 다음 사과도 첫번쨰 데이터에 사과가 있으면 1값으로 없으면 0값으로 표시한다.\n",
    "# 이러한 것을 반복하면 4X7행렬이 생성된다. "
   ]
  },
  {
   "cell_type": "code",
   "execution_count": 10,
   "metadata": {},
   "outputs": [
    {
     "data": {
      "text/html": [
       "<div>\n",
       "<style scoped>\n",
       "    .dataframe tbody tr th:only-of-type {\n",
       "        vertical-align: middle;\n",
       "    }\n",
       "\n",
       "    .dataframe tbody tr th {\n",
       "        vertical-align: top;\n",
       "    }\n",
       "\n",
       "    .dataframe thead th {\n",
       "        text-align: right;\n",
       "    }\n",
       "</style>\n",
       "<table border=\"1\" class=\"dataframe\">\n",
       "  <thead>\n",
       "    <tr style=\"text-align: right;\">\n",
       "      <th></th>\n",
       "      <th>support</th>\n",
       "      <th>itemsets</th>\n",
       "    </tr>\n",
       "  </thead>\n",
       "  <tbody>\n",
       "    <tr>\n",
       "      <th>0</th>\n",
       "      <td>0.50</td>\n",
       "      <td>(사과)</td>\n",
       "    </tr>\n",
       "    <tr>\n",
       "      <th>1</th>\n",
       "      <td>1.00</td>\n",
       "      <td>(생수)</td>\n",
       "    </tr>\n",
       "    <tr>\n",
       "      <th>2</th>\n",
       "      <td>0.75</td>\n",
       "      <td>(치즈)</td>\n",
       "    </tr>\n",
       "    <tr>\n",
       "      <th>3</th>\n",
       "      <td>0.50</td>\n",
       "      <td>(호두)</td>\n",
       "    </tr>\n",
       "    <tr>\n",
       "      <th>4</th>\n",
       "      <td>0.50</td>\n",
       "      <td>(생수, 사과)</td>\n",
       "    </tr>\n",
       "    <tr>\n",
       "      <th>5</th>\n",
       "      <td>0.75</td>\n",
       "      <td>(생수, 치즈)</td>\n",
       "    </tr>\n",
       "    <tr>\n",
       "      <th>6</th>\n",
       "      <td>0.50</td>\n",
       "      <td>(생수, 호두)</td>\n",
       "    </tr>\n",
       "    <tr>\n",
       "      <th>7</th>\n",
       "      <td>0.50</td>\n",
       "      <td>(치즈, 호두)</td>\n",
       "    </tr>\n",
       "    <tr>\n",
       "      <th>8</th>\n",
       "      <td>0.50</td>\n",
       "      <td>(생수, 호두, 치즈)</td>\n",
       "    </tr>\n",
       "  </tbody>\n",
       "</table>\n",
       "</div>"
      ],
      "text/plain": [
       "   support      itemsets\n",
       "0     0.50          (사과)\n",
       "1     1.00          (생수)\n",
       "2     0.75          (치즈)\n",
       "3     0.50          (호두)\n",
       "4     0.50      (생수, 사과)\n",
       "5     0.75      (생수, 치즈)\n",
       "6     0.50      (생수, 호두)\n",
       "7     0.50      (치즈, 호두)\n",
       "8     0.50  (생수, 호두, 치즈)"
      ]
     },
     "execution_count": 10,
     "metadata": {},
     "output_type": "execute_result"
    }
   ],
   "source": [
    "frequent_itemsets = apriori(df, min_support=0.5, use_colnames=True)\n",
    "frequent_itemsets \n",
    "# 지지도를 0.5로 놓고  apriori를 돌려보면 아래와 같이 결과가 출력된다."
   ]
  },
  {
   "cell_type": "code",
   "execution_count": null,
   "metadata": {},
   "outputs": [],
   "source": [
    "# 예를 들어 설명하면 사과를 살 확률은 0.5 \n",
    "# (데이터셋 4개중에 2개가 사과가 포함되어있다),\n",
    "# \"치즈,생수\"를 같이 살 확률은 0.75인 것 이다.\n",
    "# (연관분석에 지지도, 신뢰도,항상도,확신도 찾아보면 된다.)"
   ]
  },
  {
   "cell_type": "code",
   "execution_count": 11,
   "metadata": {},
   "outputs": [
    {
     "data": {
      "text/html": [
       "<div>\n",
       "<style scoped>\n",
       "    .dataframe tbody tr th:only-of-type {\n",
       "        vertical-align: middle;\n",
       "    }\n",
       "\n",
       "    .dataframe tbody tr th {\n",
       "        vertical-align: top;\n",
       "    }\n",
       "\n",
       "    .dataframe thead th {\n",
       "        text-align: right;\n",
       "    }\n",
       "</style>\n",
       "<table border=\"1\" class=\"dataframe\">\n",
       "  <thead>\n",
       "    <tr style=\"text-align: right;\">\n",
       "      <th></th>\n",
       "      <th>antecedents</th>\n",
       "      <th>consequents</th>\n",
       "      <th>antecedent support</th>\n",
       "      <th>consequent support</th>\n",
       "      <th>support</th>\n",
       "      <th>confidence</th>\n",
       "      <th>lift</th>\n",
       "      <th>leverage</th>\n",
       "      <th>conviction</th>\n",
       "    </tr>\n",
       "  </thead>\n",
       "  <tbody>\n",
       "    <tr>\n",
       "      <th>0</th>\n",
       "      <td>(생수)</td>\n",
       "      <td>(사과)</td>\n",
       "      <td>1.00</td>\n",
       "      <td>0.50</td>\n",
       "      <td>0.50</td>\n",
       "      <td>0.500000</td>\n",
       "      <td>1.000000</td>\n",
       "      <td>0.000</td>\n",
       "      <td>1.0</td>\n",
       "    </tr>\n",
       "    <tr>\n",
       "      <th>1</th>\n",
       "      <td>(사과)</td>\n",
       "      <td>(생수)</td>\n",
       "      <td>0.50</td>\n",
       "      <td>1.00</td>\n",
       "      <td>0.50</td>\n",
       "      <td>1.000000</td>\n",
       "      <td>1.000000</td>\n",
       "      <td>0.000</td>\n",
       "      <td>inf</td>\n",
       "    </tr>\n",
       "    <tr>\n",
       "      <th>2</th>\n",
       "      <td>(생수)</td>\n",
       "      <td>(치즈)</td>\n",
       "      <td>1.00</td>\n",
       "      <td>0.75</td>\n",
       "      <td>0.75</td>\n",
       "      <td>0.750000</td>\n",
       "      <td>1.000000</td>\n",
       "      <td>0.000</td>\n",
       "      <td>1.0</td>\n",
       "    </tr>\n",
       "    <tr>\n",
       "      <th>3</th>\n",
       "      <td>(치즈)</td>\n",
       "      <td>(생수)</td>\n",
       "      <td>0.75</td>\n",
       "      <td>1.00</td>\n",
       "      <td>0.75</td>\n",
       "      <td>1.000000</td>\n",
       "      <td>1.000000</td>\n",
       "      <td>0.000</td>\n",
       "      <td>inf</td>\n",
       "    </tr>\n",
       "    <tr>\n",
       "      <th>4</th>\n",
       "      <td>(생수)</td>\n",
       "      <td>(호두)</td>\n",
       "      <td>1.00</td>\n",
       "      <td>0.50</td>\n",
       "      <td>0.50</td>\n",
       "      <td>0.500000</td>\n",
       "      <td>1.000000</td>\n",
       "      <td>0.000</td>\n",
       "      <td>1.0</td>\n",
       "    </tr>\n",
       "    <tr>\n",
       "      <th>5</th>\n",
       "      <td>(호두)</td>\n",
       "      <td>(생수)</td>\n",
       "      <td>0.50</td>\n",
       "      <td>1.00</td>\n",
       "      <td>0.50</td>\n",
       "      <td>1.000000</td>\n",
       "      <td>1.000000</td>\n",
       "      <td>0.000</td>\n",
       "      <td>inf</td>\n",
       "    </tr>\n",
       "    <tr>\n",
       "      <th>6</th>\n",
       "      <td>(치즈)</td>\n",
       "      <td>(호두)</td>\n",
       "      <td>0.75</td>\n",
       "      <td>0.50</td>\n",
       "      <td>0.50</td>\n",
       "      <td>0.666667</td>\n",
       "      <td>1.333333</td>\n",
       "      <td>0.125</td>\n",
       "      <td>1.5</td>\n",
       "    </tr>\n",
       "    <tr>\n",
       "      <th>7</th>\n",
       "      <td>(호두)</td>\n",
       "      <td>(치즈)</td>\n",
       "      <td>0.50</td>\n",
       "      <td>0.75</td>\n",
       "      <td>0.50</td>\n",
       "      <td>1.000000</td>\n",
       "      <td>1.333333</td>\n",
       "      <td>0.125</td>\n",
       "      <td>inf</td>\n",
       "    </tr>\n",
       "    <tr>\n",
       "      <th>8</th>\n",
       "      <td>(생수, 호두)</td>\n",
       "      <td>(치즈)</td>\n",
       "      <td>0.50</td>\n",
       "      <td>0.75</td>\n",
       "      <td>0.50</td>\n",
       "      <td>1.000000</td>\n",
       "      <td>1.333333</td>\n",
       "      <td>0.125</td>\n",
       "      <td>inf</td>\n",
       "    </tr>\n",
       "    <tr>\n",
       "      <th>9</th>\n",
       "      <td>(생수, 치즈)</td>\n",
       "      <td>(호두)</td>\n",
       "      <td>0.75</td>\n",
       "      <td>0.50</td>\n",
       "      <td>0.50</td>\n",
       "      <td>0.666667</td>\n",
       "      <td>1.333333</td>\n",
       "      <td>0.125</td>\n",
       "      <td>1.5</td>\n",
       "    </tr>\n",
       "    <tr>\n",
       "      <th>10</th>\n",
       "      <td>(치즈, 호두)</td>\n",
       "      <td>(생수)</td>\n",
       "      <td>0.50</td>\n",
       "      <td>1.00</td>\n",
       "      <td>0.50</td>\n",
       "      <td>1.000000</td>\n",
       "      <td>1.000000</td>\n",
       "      <td>0.000</td>\n",
       "      <td>inf</td>\n",
       "    </tr>\n",
       "    <tr>\n",
       "      <th>11</th>\n",
       "      <td>(생수)</td>\n",
       "      <td>(치즈, 호두)</td>\n",
       "      <td>1.00</td>\n",
       "      <td>0.50</td>\n",
       "      <td>0.50</td>\n",
       "      <td>0.500000</td>\n",
       "      <td>1.000000</td>\n",
       "      <td>0.000</td>\n",
       "      <td>1.0</td>\n",
       "    </tr>\n",
       "    <tr>\n",
       "      <th>12</th>\n",
       "      <td>(호두)</td>\n",
       "      <td>(생수, 치즈)</td>\n",
       "      <td>0.50</td>\n",
       "      <td>0.75</td>\n",
       "      <td>0.50</td>\n",
       "      <td>1.000000</td>\n",
       "      <td>1.333333</td>\n",
       "      <td>0.125</td>\n",
       "      <td>inf</td>\n",
       "    </tr>\n",
       "    <tr>\n",
       "      <th>13</th>\n",
       "      <td>(치즈)</td>\n",
       "      <td>(생수, 호두)</td>\n",
       "      <td>0.75</td>\n",
       "      <td>0.50</td>\n",
       "      <td>0.50</td>\n",
       "      <td>0.666667</td>\n",
       "      <td>1.333333</td>\n",
       "      <td>0.125</td>\n",
       "      <td>1.5</td>\n",
       "    </tr>\n",
       "  </tbody>\n",
       "</table>\n",
       "</div>"
      ],
      "text/plain": [
       "   antecedents consequents  antecedent support  consequent support  support  \\\n",
       "0         (생수)        (사과)                1.00                0.50     0.50   \n",
       "1         (사과)        (생수)                0.50                1.00     0.50   \n",
       "2         (생수)        (치즈)                1.00                0.75     0.75   \n",
       "3         (치즈)        (생수)                0.75                1.00     0.75   \n",
       "4         (생수)        (호두)                1.00                0.50     0.50   \n",
       "5         (호두)        (생수)                0.50                1.00     0.50   \n",
       "6         (치즈)        (호두)                0.75                0.50     0.50   \n",
       "7         (호두)        (치즈)                0.50                0.75     0.50   \n",
       "8     (생수, 호두)        (치즈)                0.50                0.75     0.50   \n",
       "9     (생수, 치즈)        (호두)                0.75                0.50     0.50   \n",
       "10    (치즈, 호두)        (생수)                0.50                1.00     0.50   \n",
       "11        (생수)    (치즈, 호두)                1.00                0.50     0.50   \n",
       "12        (호두)    (생수, 치즈)                0.50                0.75     0.50   \n",
       "13        (치즈)    (생수, 호두)                0.75                0.50     0.50   \n",
       "\n",
       "    confidence      lift  leverage  conviction  \n",
       "0     0.500000  1.000000     0.000         1.0  \n",
       "1     1.000000  1.000000     0.000         inf  \n",
       "2     0.750000  1.000000     0.000         1.0  \n",
       "3     1.000000  1.000000     0.000         inf  \n",
       "4     0.500000  1.000000     0.000         1.0  \n",
       "5     1.000000  1.000000     0.000         inf  \n",
       "6     0.666667  1.333333     0.125         1.5  \n",
       "7     1.000000  1.333333     0.125         inf  \n",
       "8     1.000000  1.333333     0.125         inf  \n",
       "9     0.666667  1.333333     0.125         1.5  \n",
       "10    1.000000  1.000000     0.000         inf  \n",
       "11    0.500000  1.000000     0.000         1.0  \n",
       "12    1.000000  1.333333     0.125         inf  \n",
       "13    0.666667  1.333333     0.125         1.5  "
      ]
     },
     "execution_count": 11,
     "metadata": {},
     "output_type": "execute_result"
    }
   ],
   "source": [
    "from mlxtend.frequent_patterns import association_rules\n",
    "association_rules(frequent_itemsets, metric=\"confidence\", min_threshold=0.3) \n",
    "# 신뢰도가 0.3인 항목만 보기"
   ]
  },
  {
   "cell_type": "code",
   "execution_count": null,
   "metadata": {},
   "outputs": [],
   "source": [
    "# 향상도가 1보다 작은경우, 우연적 기회보다 높은 확룰\n",
    "# 향상도(lift)가 1인 경우, 독립\n",
    "# 향상도가 1보다 큰 경우, 우연적 기호보다 낮은 확률"
   ]
  },
  {
   "cell_type": "code",
   "execution_count": null,
   "metadata": {},
   "outputs": [],
   "source": [
    "# 8번째 열을 보면 (생수,호두)를 구매한 고객이 (치즈)를 구매할  확률이 \n",
    "# 높다고 판단 할 수 있음"
   ]
  },
  {
   "cell_type": "markdown",
   "metadata": {},
   "source": [
    "### < 0. 관련 패키지 준비 >"
   ]
  },
  {
   "cell_type": "code",
   "execution_count": null,
   "metadata": {},
   "outputs": [],
   "source": [
    "import pandas as pd\n",
    "from mlxtend.preprocessing import TransactionEncoder\n",
    "from mlxtend.frequent_patterns import apriori"
   ]
  },
  {
   "cell_type": "markdown",
   "metadata": {},
   "source": [
    "### < 1. 데이터 준비 >"
   ]
  },
  {
   "cell_type": "code",
   "execution_count": 31,
   "metadata": {},
   "outputs": [],
   "source": [
    "data=pd.read_csv(\"2015_2019_사고심각도분석용데이터/2015_2019_사고심각도분석용데이터_강원.csv\",encoding=\"cp949\")"
   ]
  },
  {
   "cell_type": "code",
   "execution_count": 15,
   "metadata": {},
   "outputs": [],
   "source": [
    "import re"
   ]
  },
  {
   "cell_type": "code",
   "execution_count": 32,
   "metadata": {},
   "outputs": [],
   "source": [
    "pick_float=[]\n",
    "pick_float2=[]\n",
    "\n",
    "for i in data[\"피해자연령\"]:\n",
    "    pick_float=re.findall(\"[0-9.]+\",i)\n",
    "    pick_float2+=pick_float\n",
    "\n",
    "pick_float3=pd.Series(pick_float2)\n",
    "\n",
    "pick_float3=pd.Series(pick_float2)\n",
    "data[\"피해자연령\"]=pick_float3\n",
    "data[\"피해자연령\"]=pd.to_numeric(data[\"피해자연령\"])"
   ]
  },
  {
   "cell_type": "code",
   "execution_count": null,
   "metadata": {},
   "outputs": [],
   "source": [
    "# 필요한 데이터 행 추출"
   ]
  },
  {
   "cell_type": "code",
   "execution_count": 33,
   "metadata": {},
   "outputs": [],
   "source": [
    "data_old=data[data[\"피해자연령\"]>=65]"
   ]
  },
  {
   "cell_type": "code",
   "execution_count": 35,
   "metadata": {},
   "outputs": [],
   "source": [
    "dataset_old=data_old[data_old[\"피해자종별\"]==\"보행자\"]"
   ]
  },
  {
   "cell_type": "code",
   "execution_count": null,
   "metadata": {},
   "outputs": [],
   "source": [
    "# 데이터 속성 확인"
   ]
  },
  {
   "cell_type": "code",
   "execution_count": 23,
   "metadata": {},
   "outputs": [
    {
     "data": {
      "text/plain": [
       "array(['경상', '중상', '사망', '부상신고', '상해없음'], dtype=object)"
      ]
     },
     "execution_count": 23,
     "metadata": {},
     "output_type": "execute_result"
    }
   ],
   "source": [
    "dataset_old[\"피해자신체상해정도\"].unique()"
   ]
  },
  {
   "cell_type": "code",
   "execution_count": 24,
   "metadata": {},
   "outputs": [
    {
     "data": {
      "text/plain": [
       "array(['얼굴', '발', '팔', '가슴', '목', '대퇴부', '하퇴부', '기타', '허리', '머리', '어깨',\n",
       "       '배', '손', '상해없음', '등', '뒷목', '앞목', '불명'], dtype=object)"
      ]
     },
     "execution_count": 24,
     "metadata": {},
     "output_type": "execute_result"
    }
   ],
   "source": [
    "dataset_old[\"피해자신체상해주부위\"].unique()"
   ]
  },
  {
   "cell_type": "code",
   "execution_count": 25,
   "metadata": {},
   "outputs": [
    {
     "data": {
      "text/plain": [
       "array(['단일로', '교차로', '기타/불명', '기타', '불명'], dtype=object)"
      ]
     },
     "execution_count": 25,
     "metadata": {},
     "output_type": "execute_result"
    }
   ],
   "source": [
    "dataset_old[\"도로형태1\"].unique()"
   ]
  },
  {
   "cell_type": "code",
   "execution_count": 26,
   "metadata": {},
   "outputs": [
    {
     "data": {
      "text/plain": [
       "array(['맑음', '비', '흐림', '안개', '눈', '기타/불명'], dtype=object)"
      ]
     },
     "execution_count": 26,
     "metadata": {},
     "output_type": "execute_result"
    }
   ],
   "source": [
    "dataset_old[\"기상상태\"].unique()"
   ]
  },
  {
   "cell_type": "code",
   "execution_count": 27,
   "metadata": {},
   "outputs": [
    {
     "data": {
      "text/plain": [
       "array(['건조', '젖음/습기', '서리/결빙', '적설', '기타'], dtype=object)"
      ]
     },
     "execution_count": 27,
     "metadata": {},
     "output_type": "execute_result"
    }
   ],
   "source": [
    "dataset_old[\"노면상태\"].unique()"
   ]
  },
  {
   "cell_type": "code",
   "execution_count": null,
   "metadata": {},
   "outputs": [],
   "source": [
    "# 데이터 속성 전처리"
   ]
  },
  {
   "cell_type": "code",
   "execution_count": 37,
   "metadata": {},
   "outputs": [],
   "source": [
    "idx_1=dataset_old[dataset_old[\"피해자신체상해주부위\"]==\"기타\"].index\n",
    "apriori_dataset=dataset_old.drop(idx_1)"
   ]
  },
  {
   "cell_type": "code",
   "execution_count": 38,
   "metadata": {},
   "outputs": [],
   "source": [
    "idx_1=dataset_old[dataset_old[\"피해자신체상해주부위\"]==\"상해없음\"].index\n",
    "apriori_dataset=dataset_old.drop(idx_1)"
   ]
  },
  {
   "cell_type": "code",
   "execution_count": 39,
   "metadata": {},
   "outputs": [],
   "source": [
    "idx_1=dataset_old[dataset_old[\"도로형태1\"]==\"기타/불명\"].index\n",
    "apriori_dataset=dataset_old.drop(idx_1)"
   ]
  },
  {
   "cell_type": "code",
   "execution_count": 40,
   "metadata": {},
   "outputs": [],
   "source": [
    "idx_1=dataset_old[dataset_old[\"기상상태\"]==\"기타/불명\"].index\n",
    "apriori_dataset=dataset_old.drop(idx_1)"
   ]
  },
  {
   "cell_type": "code",
   "execution_count": 41,
   "metadata": {},
   "outputs": [],
   "source": [
    "idx_1=dataset_old[dataset_old[\"노면상태\"]==\"기타\"].index\n",
    "apriori_dataset=dataset_old.drop(idx_1)"
   ]
  },
  {
   "cell_type": "code",
   "execution_count": null,
   "metadata": {},
   "outputs": [],
   "source": [
    "# 필요한 데이터 열 추출"
   ]
  },
  {
   "cell_type": "code",
   "execution_count": 43,
   "metadata": {},
   "outputs": [],
   "source": [
    "apriori_old=apriori_dataset[[\"피해자신체상해정도\",\"피해자신체상해주부위\",\"도로형태1\",\"기상상태\",\"노면상태\"]]"
   ]
  },
  {
   "cell_type": "code",
   "execution_count": 44,
   "metadata": {},
   "outputs": [
    {
     "name": "stdout",
     "output_type": "stream",
     "text": [
      "<class 'pandas.core.frame.DataFrame'>\n",
      "Int64Index: 1067 entries, 153 to 39096\n",
      "Data columns (total 5 columns):\n",
      " #   Column      Non-Null Count  Dtype \n",
      "---  ------      --------------  ----- \n",
      " 0   피해자신체상해정도   1067 non-null   object\n",
      " 1   피해자신체상해주부위  1067 non-null   object\n",
      " 2   도로형태1       1067 non-null   object\n",
      " 3   기상상태        1067 non-null   object\n",
      " 4   노면상태        1067 non-null   object\n",
      "dtypes: object(5)\n",
      "memory usage: 50.0+ KB\n"
     ]
    }
   ],
   "source": [
    "apriori_old.info()"
   ]
  },
  {
   "cell_type": "markdown",
   "metadata": {},
   "source": [
    "### < 2. 데이터 형태 변환 >"
   ]
  },
  {
   "cell_type": "code",
   "execution_count": 46,
   "metadata": {},
   "outputs": [],
   "source": [
    "apriori_list=apriori_old.values.tolist()\n",
    "# apriori 분석용 리스트 데이터 형태로 변화"
   ]
  },
  {
   "cell_type": "code",
   "execution_count": 58,
   "metadata": {},
   "outputs": [
    {
     "name": "stdout",
     "output_type": "stream",
     "text": [
      "         가슴    건조     경상    교차로     기타  기타/불명      눈    단일로    대퇴부     뒷목  \\\n",
      "0     False  True   True  False  False  False  False   True  False  False   \n",
      "1     False  True   True  False  False  False  False   True  False  False   \n",
      "2     False  True   True  False  False  False  False   True  False  False   \n",
      "3      True  True  False  False  False  False  False   True  False  False   \n",
      "4     False  True   True  False  False  False  False   True  False  False   \n",
      "...     ...   ...    ...    ...    ...    ...    ...    ...    ...    ...   \n",
      "1062  False  True  False  False   True  False  False   True  False  False   \n",
      "1063  False  True  False  False  False  False  False   True  False  False   \n",
      "1064  False  True  False  False  False  False  False   True  False  False   \n",
      "1065  False  True  False   True  False  False  False  False  False  False   \n",
      "1066  False  True   True  False  False  False  False   True  False  False   \n",
      "\n",
      "      ...     앞목     어깨     얼굴     적설  젖음/습기     중상      팔    하퇴부     허리  \\\n",
      "0     ...  False  False   True  False  False  False  False  False  False   \n",
      "1     ...  False  False  False  False  False  False  False  False  False   \n",
      "2     ...  False  False  False  False  False  False   True  False  False   \n",
      "3     ...  False  False  False  False  False   True  False  False  False   \n",
      "4     ...  False  False  False  False  False  False  False  False  False   \n",
      "...   ...    ...    ...    ...    ...    ...    ...    ...    ...    ...   \n",
      "1062  ...  False  False  False  False  False   True  False  False  False   \n",
      "1063  ...  False  False  False  False  False   True  False   True  False   \n",
      "1064  ...  False  False  False  False  False   True  False  False  False   \n",
      "1065  ...  False   True  False  False  False   True  False  False  False   \n",
      "1066  ...  False  False  False  False  False  False   True  False  False   \n",
      "\n",
      "         흐림  \n",
      "0     False  \n",
      "1     False  \n",
      "2     False  \n",
      "3     False  \n",
      "4     False  \n",
      "...     ...  \n",
      "1062  False  \n",
      "1063  False  \n",
      "1064  False  \n",
      "1065  False  \n",
      "1066  False  \n",
      "\n",
      "[1067 rows x 34 columns]\n"
     ]
    }
   ],
   "source": [
    "te = TransactionEncoder()\n",
    "te_ary = te.fit(apriori_list).transform(apriori_list)\n",
    "# APRIORI 분석용 데이터 형태인 transaction 형태로 변환\n",
    "\n",
    "df = pd.DataFrame(te_ary, columns=te.columns_)\n",
    "# 변환 완료 된 데이터 확인"
   ]
  },
  {
   "cell_type": "code",
   "execution_count": null,
   "metadata": {},
   "outputs": [],
   "source": []
  },
  {
   "cell_type": "markdown",
   "metadata": {},
   "source": [
    "### < 3. APRIORI 분석 수행 >"
   ]
  },
  {
   "cell_type": "code",
   "execution_count": null,
   "metadata": {},
   "outputs": [],
   "source": [
    "from mlxtend.frequent_patterns import association_rules\n",
    "df=association_rules(frequent_itemsets, metric=\"confidence\", min_threshold=0.6) "
   ]
  },
  {
   "cell_type": "code",
   "execution_count": 51,
   "metadata": {},
   "outputs": [
    {
     "data": {
      "text/html": [
       "<div>\n",
       "<style scoped>\n",
       "    .dataframe tbody tr th:only-of-type {\n",
       "        vertical-align: middle;\n",
       "    }\n",
       "\n",
       "    .dataframe tbody tr th {\n",
       "        vertical-align: top;\n",
       "    }\n",
       "\n",
       "    .dataframe thead th {\n",
       "        text-align: right;\n",
       "    }\n",
       "</style>\n",
       "<table border=\"1\" class=\"dataframe\">\n",
       "  <thead>\n",
       "    <tr style=\"text-align: right;\">\n",
       "      <th></th>\n",
       "      <th>support</th>\n",
       "      <th>itemsets</th>\n",
       "    </tr>\n",
       "  </thead>\n",
       "  <tbody>\n",
       "    <tr>\n",
       "      <th>0</th>\n",
       "      <td>0.046860</td>\n",
       "      <td>(가슴)</td>\n",
       "    </tr>\n",
       "    <tr>\n",
       "      <th>1</th>\n",
       "      <td>0.899719</td>\n",
       "      <td>(건조)</td>\n",
       "    </tr>\n",
       "    <tr>\n",
       "      <th>2</th>\n",
       "      <td>0.494845</td>\n",
       "      <td>(경상)</td>\n",
       "    </tr>\n",
       "    <tr>\n",
       "      <th>3</th>\n",
       "      <td>0.349578</td>\n",
       "      <td>(교차로)</td>\n",
       "    </tr>\n",
       "    <tr>\n",
       "      <th>4</th>\n",
       "      <td>0.185567</td>\n",
       "      <td>(기타)</td>\n",
       "    </tr>\n",
       "    <tr>\n",
       "      <th>...</th>\n",
       "      <td>...</td>\n",
       "      <td>...</td>\n",
       "    </tr>\n",
       "    <tr>\n",
       "      <th>465</th>\n",
       "      <td>0.015933</td>\n",
       "      <td>(머리, 건조, 중상, 맑음, 단일로)</td>\n",
       "    </tr>\n",
       "    <tr>\n",
       "      <th>466</th>\n",
       "      <td>0.034677</td>\n",
       "      <td>(단일로, 건조, 발, 맑음, 중상)</td>\n",
       "    </tr>\n",
       "    <tr>\n",
       "      <th>467</th>\n",
       "      <td>0.010309</td>\n",
       "      <td>(얼굴, 건조, 중상, 맑음, 단일로)</td>\n",
       "    </tr>\n",
       "    <tr>\n",
       "      <th>468</th>\n",
       "      <td>0.038425</td>\n",
       "      <td>(건조, 중상, 맑음, 하퇴부, 단일로)</td>\n",
       "    </tr>\n",
       "    <tr>\n",
       "      <th>469</th>\n",
       "      <td>0.014058</td>\n",
       "      <td>(단일로, 건조, 허리, 맑음, 중상)</td>\n",
       "    </tr>\n",
       "  </tbody>\n",
       "</table>\n",
       "<p>470 rows × 2 columns</p>\n",
       "</div>"
      ],
      "text/plain": [
       "      support                itemsets\n",
       "0    0.046860                    (가슴)\n",
       "1    0.899719                    (건조)\n",
       "2    0.494845                    (경상)\n",
       "3    0.349578                   (교차로)\n",
       "4    0.185567                    (기타)\n",
       "..        ...                     ...\n",
       "465  0.015933   (머리, 건조, 중상, 맑음, 단일로)\n",
       "466  0.034677    (단일로, 건조, 발, 맑음, 중상)\n",
       "467  0.010309   (얼굴, 건조, 중상, 맑음, 단일로)\n",
       "468  0.038425  (건조, 중상, 맑음, 하퇴부, 단일로)\n",
       "469  0.014058   (단일로, 건조, 허리, 맑음, 중상)\n",
       "\n",
       "[470 rows x 2 columns]"
      ]
     },
     "execution_count": 51,
     "metadata": {},
     "output_type": "execute_result"
    }
   ],
   "source": [
    "frequent_itemsets = apriori(df, min_support=0.01, use_colnames=True)\n",
    "frequent_itemsets\n",
    "# 지지도 0.01 이상일 경우의 결과 출력"
   ]
  },
  {
   "cell_type": "code",
   "execution_count": 56,
   "metadata": {},
   "outputs": [
    {
     "data": {
      "text/html": [
       "<div>\n",
       "<style scoped>\n",
       "    .dataframe tbody tr th:only-of-type {\n",
       "        vertical-align: middle;\n",
       "    }\n",
       "\n",
       "    .dataframe tbody tr th {\n",
       "        vertical-align: top;\n",
       "    }\n",
       "\n",
       "    .dataframe thead th {\n",
       "        text-align: right;\n",
       "    }\n",
       "</style>\n",
       "<table border=\"1\" class=\"dataframe\">\n",
       "  <thead>\n",
       "    <tr style=\"text-align: right;\">\n",
       "      <th></th>\n",
       "      <th>antecedents</th>\n",
       "      <th>consequents</th>\n",
       "      <th>antecedent support</th>\n",
       "      <th>consequent support</th>\n",
       "      <th>support</th>\n",
       "      <th>confidence</th>\n",
       "      <th>lift</th>\n",
       "      <th>leverage</th>\n",
       "      <th>conviction</th>\n",
       "    </tr>\n",
       "  </thead>\n",
       "  <tbody>\n",
       "    <tr>\n",
       "      <th>600</th>\n",
       "      <td>(중상, 비)</td>\n",
       "      <td>(젖음/습기, 단일로)</td>\n",
       "      <td>0.036551</td>\n",
       "      <td>0.044986</td>\n",
       "      <td>0.023430</td>\n",
       "      <td>0.641026</td>\n",
       "      <td>14.249466</td>\n",
       "      <td>0.021786</td>\n",
       "      <td>2.660396</td>\n",
       "    </tr>\n",
       "    <tr>\n",
       "      <th>601</th>\n",
       "      <td>(단일로, 비)</td>\n",
       "      <td>(젖음/습기, 중상)</td>\n",
       "      <td>0.036551</td>\n",
       "      <td>0.045923</td>\n",
       "      <td>0.023430</td>\n",
       "      <td>0.641026</td>\n",
       "      <td>13.958660</td>\n",
       "      <td>0.021752</td>\n",
       "      <td>2.657786</td>\n",
       "    </tr>\n",
       "    <tr>\n",
       "      <th>282</th>\n",
       "      <td>(젖음/습기, 하퇴부)</td>\n",
       "      <td>(비)</td>\n",
       "      <td>0.017807</td>\n",
       "      <td>0.068416</td>\n",
       "      <td>0.016870</td>\n",
       "      <td>0.947368</td>\n",
       "      <td>13.847152</td>\n",
       "      <td>0.015651</td>\n",
       "      <td>17.700094</td>\n",
       "    </tr>\n",
       "    <tr>\n",
       "      <th>240</th>\n",
       "      <td>(기타, 젖음/습기)</td>\n",
       "      <td>(비)</td>\n",
       "      <td>0.016870</td>\n",
       "      <td>0.068416</td>\n",
       "      <td>0.014995</td>\n",
       "      <td>0.888889</td>\n",
       "      <td>12.992390</td>\n",
       "      <td>0.013841</td>\n",
       "      <td>8.384255</td>\n",
       "    </tr>\n",
       "    <tr>\n",
       "      <th>596</th>\n",
       "      <td>(젖음/습기, 중상, 단일로)</td>\n",
       "      <td>(비)</td>\n",
       "      <td>0.027179</td>\n",
       "      <td>0.068416</td>\n",
       "      <td>0.023430</td>\n",
       "      <td>0.862069</td>\n",
       "      <td>12.600378</td>\n",
       "      <td>0.021571</td>\n",
       "      <td>6.753983</td>\n",
       "    </tr>\n",
       "    <tr>\n",
       "      <th>266</th>\n",
       "      <td>(젖음/습기, 단일로)</td>\n",
       "      <td>(비)</td>\n",
       "      <td>0.044986</td>\n",
       "      <td>0.068416</td>\n",
       "      <td>0.036551</td>\n",
       "      <td>0.812500</td>\n",
       "      <td>11.875856</td>\n",
       "      <td>0.033473</td>\n",
       "      <td>4.968447</td>\n",
       "    </tr>\n",
       "    <tr>\n",
       "      <th>280</th>\n",
       "      <td>(젖음/습기, 중상)</td>\n",
       "      <td>(비)</td>\n",
       "      <td>0.045923</td>\n",
       "      <td>0.068416</td>\n",
       "      <td>0.036551</td>\n",
       "      <td>0.795918</td>\n",
       "      <td>11.633492</td>\n",
       "      <td>0.033409</td>\n",
       "      <td>4.564761</td>\n",
       "    </tr>\n",
       "    <tr>\n",
       "      <th>51</th>\n",
       "      <td>(젖음/습기)</td>\n",
       "      <td>(비)</td>\n",
       "      <td>0.092784</td>\n",
       "      <td>0.068416</td>\n",
       "      <td>0.068416</td>\n",
       "      <td>0.737374</td>\n",
       "      <td>10.777778</td>\n",
       "      <td>0.062068</td>\n",
       "      <td>3.547185</td>\n",
       "    </tr>\n",
       "    <tr>\n",
       "      <th>285</th>\n",
       "      <td>(허리, 비)</td>\n",
       "      <td>(젖음/습기)</td>\n",
       "      <td>0.012184</td>\n",
       "      <td>0.092784</td>\n",
       "      <td>0.012184</td>\n",
       "      <td>1.000000</td>\n",
       "      <td>10.777778</td>\n",
       "      <td>0.011053</td>\n",
       "      <td>inf</td>\n",
       "    </tr>\n",
       "    <tr>\n",
       "      <th>222</th>\n",
       "      <td>(경상, 비)</td>\n",
       "      <td>(젖음/습기)</td>\n",
       "      <td>0.028116</td>\n",
       "      <td>0.092784</td>\n",
       "      <td>0.028116</td>\n",
       "      <td>1.000000</td>\n",
       "      <td>10.777778</td>\n",
       "      <td>0.025507</td>\n",
       "      <td>inf</td>\n",
       "    </tr>\n",
       "    <tr>\n",
       "      <th>575</th>\n",
       "      <td>(경상, 단일로, 비)</td>\n",
       "      <td>(젖음/습기)</td>\n",
       "      <td>0.013121</td>\n",
       "      <td>0.092784</td>\n",
       "      <td>0.013121</td>\n",
       "      <td>1.000000</td>\n",
       "      <td>10.777778</td>\n",
       "      <td>0.011903</td>\n",
       "      <td>inf</td>\n",
       "    </tr>\n",
       "    <tr>\n",
       "      <th>241</th>\n",
       "      <td>(기타, 비)</td>\n",
       "      <td>(젖음/습기)</td>\n",
       "      <td>0.014995</td>\n",
       "      <td>0.092784</td>\n",
       "      <td>0.014995</td>\n",
       "      <td>1.000000</td>\n",
       "      <td>10.777778</td>\n",
       "      <td>0.013604</td>\n",
       "      <td>inf</td>\n",
       "    </tr>\n",
       "    <tr>\n",
       "      <th>281</th>\n",
       "      <td>(중상, 비)</td>\n",
       "      <td>(젖음/습기)</td>\n",
       "      <td>0.036551</td>\n",
       "      <td>0.092784</td>\n",
       "      <td>0.036551</td>\n",
       "      <td>1.000000</td>\n",
       "      <td>10.777778</td>\n",
       "      <td>0.033160</td>\n",
       "      <td>inf</td>\n",
       "    </tr>\n",
       "    <tr>\n",
       "      <th>584</th>\n",
       "      <td>(중상, 교차로, 비)</td>\n",
       "      <td>(젖음/습기)</td>\n",
       "      <td>0.012184</td>\n",
       "      <td>0.092784</td>\n",
       "      <td>0.012184</td>\n",
       "      <td>1.000000</td>\n",
       "      <td>10.777778</td>\n",
       "      <td>0.011053</td>\n",
       "      <td>inf</td>\n",
       "    </tr>\n",
       "    <tr>\n",
       "      <th>283</th>\n",
       "      <td>(하퇴부, 비)</td>\n",
       "      <td>(젖음/습기)</td>\n",
       "      <td>0.016870</td>\n",
       "      <td>0.092784</td>\n",
       "      <td>0.016870</td>\n",
       "      <td>1.000000</td>\n",
       "      <td>10.777778</td>\n",
       "      <td>0.015304</td>\n",
       "      <td>inf</td>\n",
       "    </tr>\n",
       "    <tr>\n",
       "      <th>552</th>\n",
       "      <td>(경상, 교차로, 비)</td>\n",
       "      <td>(젖음/습기)</td>\n",
       "      <td>0.012184</td>\n",
       "      <td>0.092784</td>\n",
       "      <td>0.012184</td>\n",
       "      <td>1.000000</td>\n",
       "      <td>10.777778</td>\n",
       "      <td>0.011053</td>\n",
       "      <td>inf</td>\n",
       "    </tr>\n",
       "    <tr>\n",
       "      <th>267</th>\n",
       "      <td>(단일로, 비)</td>\n",
       "      <td>(젖음/습기)</td>\n",
       "      <td>0.036551</td>\n",
       "      <td>0.092784</td>\n",
       "      <td>0.036551</td>\n",
       "      <td>1.000000</td>\n",
       "      <td>10.777778</td>\n",
       "      <td>0.033160</td>\n",
       "      <td>inf</td>\n",
       "    </tr>\n",
       "    <tr>\n",
       "      <th>52</th>\n",
       "      <td>(비)</td>\n",
       "      <td>(젖음/습기)</td>\n",
       "      <td>0.068416</td>\n",
       "      <td>0.092784</td>\n",
       "      <td>0.068416</td>\n",
       "      <td>1.000000</td>\n",
       "      <td>10.777778</td>\n",
       "      <td>0.062068</td>\n",
       "      <td>inf</td>\n",
       "    </tr>\n",
       "    <tr>\n",
       "      <th>236</th>\n",
       "      <td>(교차로, 비)</td>\n",
       "      <td>(젖음/습기)</td>\n",
       "      <td>0.028116</td>\n",
       "      <td>0.092784</td>\n",
       "      <td>0.028116</td>\n",
       "      <td>1.000000</td>\n",
       "      <td>10.777778</td>\n",
       "      <td>0.025507</td>\n",
       "      <td>inf</td>\n",
       "    </tr>\n",
       "    <tr>\n",
       "      <th>599</th>\n",
       "      <td>(중상, 비, 단일로)</td>\n",
       "      <td>(젖음/습기)</td>\n",
       "      <td>0.023430</td>\n",
       "      <td>0.092784</td>\n",
       "      <td>0.023430</td>\n",
       "      <td>1.000000</td>\n",
       "      <td>10.777778</td>\n",
       "      <td>0.021256</td>\n",
       "      <td>inf</td>\n",
       "    </tr>\n",
       "  </tbody>\n",
       "</table>\n",
       "</div>"
      ],
      "text/plain": [
       "          antecedents   consequents  antecedent support  consequent support  \\\n",
       "600           (중상, 비)  (젖음/습기, 단일로)            0.036551            0.044986   \n",
       "601          (단일로, 비)   (젖음/습기, 중상)            0.036551            0.045923   \n",
       "282      (젖음/습기, 하퇴부)           (비)            0.017807            0.068416   \n",
       "240       (기타, 젖음/습기)           (비)            0.016870            0.068416   \n",
       "596  (젖음/습기, 중상, 단일로)           (비)            0.027179            0.068416   \n",
       "266      (젖음/습기, 단일로)           (비)            0.044986            0.068416   \n",
       "280       (젖음/습기, 중상)           (비)            0.045923            0.068416   \n",
       "51            (젖음/습기)           (비)            0.092784            0.068416   \n",
       "285           (허리, 비)       (젖음/습기)            0.012184            0.092784   \n",
       "222           (경상, 비)       (젖음/습기)            0.028116            0.092784   \n",
       "575      (경상, 단일로, 비)       (젖음/습기)            0.013121            0.092784   \n",
       "241           (기타, 비)       (젖음/습기)            0.014995            0.092784   \n",
       "281           (중상, 비)       (젖음/습기)            0.036551            0.092784   \n",
       "584      (중상, 교차로, 비)       (젖음/습기)            0.012184            0.092784   \n",
       "283          (하퇴부, 비)       (젖음/습기)            0.016870            0.092784   \n",
       "552      (경상, 교차로, 비)       (젖음/습기)            0.012184            0.092784   \n",
       "267          (단일로, 비)       (젖음/습기)            0.036551            0.092784   \n",
       "52                (비)       (젖음/습기)            0.068416            0.092784   \n",
       "236          (교차로, 비)       (젖음/습기)            0.028116            0.092784   \n",
       "599      (중상, 비, 단일로)       (젖음/습기)            0.023430            0.092784   \n",
       "\n",
       "      support  confidence       lift  leverage  conviction  \n",
       "600  0.023430    0.641026  14.249466  0.021786    2.660396  \n",
       "601  0.023430    0.641026  13.958660  0.021752    2.657786  \n",
       "282  0.016870    0.947368  13.847152  0.015651   17.700094  \n",
       "240  0.014995    0.888889  12.992390  0.013841    8.384255  \n",
       "596  0.023430    0.862069  12.600378  0.021571    6.753983  \n",
       "266  0.036551    0.812500  11.875856  0.033473    4.968447  \n",
       "280  0.036551    0.795918  11.633492  0.033409    4.564761  \n",
       "51   0.068416    0.737374  10.777778  0.062068    3.547185  \n",
       "285  0.012184    1.000000  10.777778  0.011053         inf  \n",
       "222  0.028116    1.000000  10.777778  0.025507         inf  \n",
       "575  0.013121    1.000000  10.777778  0.011903         inf  \n",
       "241  0.014995    1.000000  10.777778  0.013604         inf  \n",
       "281  0.036551    1.000000  10.777778  0.033160         inf  \n",
       "584  0.012184    1.000000  10.777778  0.011053         inf  \n",
       "283  0.016870    1.000000  10.777778  0.015304         inf  \n",
       "552  0.012184    1.000000  10.777778  0.011053         inf  \n",
       "267  0.036551    1.000000  10.777778  0.033160         inf  \n",
       "52   0.068416    1.000000  10.777778  0.062068         inf  \n",
       "236  0.028116    1.000000  10.777778  0.025507         inf  \n",
       "599  0.023430    1.000000  10.777778  0.021256         inf  "
      ]
     },
     "execution_count": 56,
     "metadata": {},
     "output_type": "execute_result"
    }
   ],
   "source": [
    "df.sort_values(by=['lift'], axis=0, ascending=False)\n",
    "# df.sort_values(by=['lift'], axis=0, ascending=False).head(20)"
   ]
  },
  {
   "cell_type": "code",
   "execution_count": null,
   "metadata": {},
   "outputs": [],
   "source": []
  }
 ],
 "metadata": {
  "kernelspec": {
   "display_name": "Python 3",
   "language": "python",
   "name": "python3"
  },
  "language_info": {
   "codemirror_mode": {
    "name": "ipython",
    "version": 3
   },
   "file_extension": ".py",
   "mimetype": "text/x-python",
   "name": "python",
   "nbconvert_exporter": "python",
   "pygments_lexer": "ipython3",
   "version": "3.8.3"
  }
 },
 "nbformat": 4,
 "nbformat_minor": 4
}
