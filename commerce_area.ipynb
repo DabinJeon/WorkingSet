{
 "cells": [
  {
   "cell_type": "code",
   "execution_count": 1,
   "metadata": {},
   "outputs": [],
   "source": [
    "import pandas as pd"
   ]
  },
  {
   "cell_type": "code",
   "execution_count": 3,
   "metadata": {},
   "outputs": [],
   "source": [
    "commerce=pd.read_csv(\"commercial_area.csv\", encoding=\"euc-kr\")"
   ]
  },
  {
   "cell_type": "code",
   "execution_count": 7,
   "metadata": {},
   "outputs": [
    {
     "data": {
      "text/html": [
       "<div>\n",
       "<style scoped>\n",
       "    .dataframe tbody tr th:only-of-type {\n",
       "        vertical-align: middle;\n",
       "    }\n",
       "\n",
       "    .dataframe tbody tr th {\n",
       "        vertical-align: top;\n",
       "    }\n",
       "\n",
       "    .dataframe thead th {\n",
       "        text-align: right;\n",
       "    }\n",
       "</style>\n",
       "<table border=\"1\" class=\"dataframe\">\n",
       "  <thead>\n",
       "    <tr style=\"text-align: right;\">\n",
       "      <th></th>\n",
       "      <th>기준_년_코드</th>\n",
       "      <th>기준_분기_코드</th>\n",
       "      <th>상권_구분_코드</th>\n",
       "      <th>상권_구분_코드_명</th>\n",
       "      <th>상권_코드</th>\n",
       "      <th>상권_코드_명</th>\n",
       "      <th>총_유동인구_수</th>\n",
       "      <th>남성_유동인구_수</th>\n",
       "      <th>여성_유동인구_수</th>\n",
       "      <th>연령대_10_유동인구_수</th>\n",
       "      <th>...</th>\n",
       "      <th>여성연령대_60_이상_토요일시간대_3_유동인구_수</th>\n",
       "      <th>여성연령대_60_이상_토요일시간대_4_유동인구_수</th>\n",
       "      <th>여성연령대_60_이상_토요일시간대_5_유동인구_수</th>\n",
       "      <th>여성연령대_60_이상_토요일시간대_6_유동인구_수</th>\n",
       "      <th>여성연령대_60_이상_일요일시간대_1_유동인구_수</th>\n",
       "      <th>여성연령대_60_이상_일요일시간대_2_유동인구_수</th>\n",
       "      <th>여성연령대_60_이상_일요일시간대_3_유동인구_수</th>\n",
       "      <th>여성연령대_60_이상_일요일시간대_4_유동인구_수</th>\n",
       "      <th>여성연령대_60_이상_일요일시간대_5_유동인구_수</th>\n",
       "      <th>여성연령대_60_이상_일요일시간대_6_유동인구_수</th>\n",
       "    </tr>\n",
       "  </thead>\n",
       "  <tbody>\n",
       "    <tr>\n",
       "      <th>0</th>\n",
       "      <td>2019</td>\n",
       "      <td>1</td>\n",
       "      <td>A</td>\n",
       "      <td>골목상권</td>\n",
       "      <td>1001010</td>\n",
       "      <td>풍성로37가길</td>\n",
       "      <td>2607258</td>\n",
       "      <td>1287202</td>\n",
       "      <td>1320057</td>\n",
       "      <td>143110</td>\n",
       "      <td>...</td>\n",
       "      <td>5207</td>\n",
       "      <td>4951</td>\n",
       "      <td>5990</td>\n",
       "      <td>3158</td>\n",
       "      <td>5200</td>\n",
       "      <td>5790</td>\n",
       "      <td>5195</td>\n",
       "      <td>4828</td>\n",
       "      <td>5440</td>\n",
       "      <td>2962</td>\n",
       "    </tr>\n",
       "    <tr>\n",
       "      <th>1</th>\n",
       "      <td>2019</td>\n",
       "      <td>1</td>\n",
       "      <td>A</td>\n",
       "      <td>골목상권</td>\n",
       "      <td>1001009</td>\n",
       "      <td>천호옛길</td>\n",
       "      <td>3070192</td>\n",
       "      <td>1485625</td>\n",
       "      <td>1584578</td>\n",
       "      <td>156547</td>\n",
       "      <td>...</td>\n",
       "      <td>6542</td>\n",
       "      <td>6385</td>\n",
       "      <td>7321</td>\n",
       "      <td>3525</td>\n",
       "      <td>5580</td>\n",
       "      <td>8098</td>\n",
       "      <td>8496</td>\n",
       "      <td>6481</td>\n",
       "      <td>7664</td>\n",
       "      <td>3255</td>\n",
       "    </tr>\n",
       "    <tr>\n",
       "      <th>2</th>\n",
       "      <td>2019</td>\n",
       "      <td>1</td>\n",
       "      <td>A</td>\n",
       "      <td>골목상권</td>\n",
       "      <td>1001008</td>\n",
       "      <td>천호옛14길</td>\n",
       "      <td>3204360</td>\n",
       "      <td>1511917</td>\n",
       "      <td>1692444</td>\n",
       "      <td>155717</td>\n",
       "      <td>...</td>\n",
       "      <td>7397</td>\n",
       "      <td>8462</td>\n",
       "      <td>8235</td>\n",
       "      <td>3086</td>\n",
       "      <td>4609</td>\n",
       "      <td>6775</td>\n",
       "      <td>8508</td>\n",
       "      <td>8209</td>\n",
       "      <td>8432</td>\n",
       "      <td>2757</td>\n",
       "    </tr>\n",
       "  </tbody>\n",
       "</table>\n",
       "<p>3 rows × 532 columns</p>\n",
       "</div>"
      ],
      "text/plain": [
       "   기준_년_코드  기준_분기_코드 상권_구분_코드 상권_구분_코드_명    상권_코드  상권_코드_명  총_유동인구_수  \\\n",
       "0     2019         1        A       골목상권  1001010  풍성로37가길   2607258   \n",
       "1     2019         1        A       골목상권  1001009     천호옛길   3070192   \n",
       "2     2019         1        A       골목상권  1001008   천호옛14길   3204360   \n",
       "\n",
       "   남성_유동인구_수  여성_유동인구_수  연령대_10_유동인구_수             ...               \\\n",
       "0    1287202    1320057         143110             ...                \n",
       "1    1485625    1584578         156547             ...                \n",
       "2    1511917    1692444         155717             ...                \n",
       "\n",
       "   여성연령대_60_이상_토요일시간대_3_유동인구_수  여성연령대_60_이상_토요일시간대_4_유동인구_수  \\\n",
       "0                         5207                         4951   \n",
       "1                         6542                         6385   \n",
       "2                         7397                         8462   \n",
       "\n",
       "   여성연령대_60_이상_토요일시간대_5_유동인구_수  여성연령대_60_이상_토요일시간대_6_유동인구_수  \\\n",
       "0                         5990                         3158   \n",
       "1                         7321                         3525   \n",
       "2                         8235                         3086   \n",
       "\n",
       "   여성연령대_60_이상_일요일시간대_1_유동인구_수  여성연령대_60_이상_일요일시간대_2_유동인구_수  \\\n",
       "0                         5200                         5790   \n",
       "1                         5580                         8098   \n",
       "2                         4609                         6775   \n",
       "\n",
       "   여성연령대_60_이상_일요일시간대_3_유동인구_수  여성연령대_60_이상_일요일시간대_4_유동인구_수  \\\n",
       "0                         5195                         4828   \n",
       "1                         8496                         6481   \n",
       "2                         8508                         8209   \n",
       "\n",
       "   여성연령대_60_이상_일요일시간대_5_유동인구_수  여성연령대_60_이상_일요일시간대_6_유동인구_수  \n",
       "0                         5440                         2962  \n",
       "1                         7664                         3255  \n",
       "2                         8432                         2757  \n",
       "\n",
       "[3 rows x 532 columns]"
      ]
     },
     "execution_count": 7,
     "metadata": {},
     "output_type": "execute_result"
    }
   ],
   "source": [
    "commerce.head(3)"
   ]
  },
  {
   "cell_type": "code",
   "execution_count": 9,
   "metadata": {},
   "outputs": [
    {
     "data": {
      "text/plain": [
       "(5050, 532)"
      ]
     },
     "execution_count": 9,
     "metadata": {},
     "output_type": "execute_result"
    }
   ],
   "source": [
    "commerce.shape"
   ]
  },
  {
   "cell_type": "code",
   "execution_count": 10,
   "metadata": {},
   "outputs": [
    {
     "name": "stdout",
     "output_type": "stream",
     "text": [
      "<class 'pandas.core.frame.DataFrame'>\n",
      "RangeIndex: 5050 entries, 0 to 5049\n",
      "Columns: 532 entries, 기준_년_코드 to 여성연령대_60_이상_일요일시간대_6_유동인구_수\n",
      "dtypes: int64(529), object(3)\n",
      "memory usage: 20.5+ MB\n"
     ]
    }
   ],
   "source": [
    "commerce.info()"
   ]
  },
  {
   "cell_type": "code",
   "execution_count": 60,
   "metadata": {},
   "outputs": [],
   "source": [
    "commerce_area=commercial[[\"상권_코드_명\",\"총_유동인구_수\"]]"
   ]
  },
  {
   "cell_type": "code",
   "execution_count": 61,
   "metadata": {},
   "outputs": [
    {
     "data": {
      "text/html": [
       "<div>\n",
       "<style scoped>\n",
       "    .dataframe tbody tr th:only-of-type {\n",
       "        vertical-align: middle;\n",
       "    }\n",
       "\n",
       "    .dataframe tbody tr th {\n",
       "        vertical-align: top;\n",
       "    }\n",
       "\n",
       "    .dataframe thead th {\n",
       "        text-align: right;\n",
       "    }\n",
       "</style>\n",
       "<table border=\"1\" class=\"dataframe\">\n",
       "  <thead>\n",
       "    <tr style=\"text-align: right;\">\n",
       "      <th></th>\n",
       "      <th>상권_코드_명</th>\n",
       "      <th>총_유동인구_수</th>\n",
       "    </tr>\n",
       "  </thead>\n",
       "  <tbody>\n",
       "    <tr>\n",
       "      <th>0</th>\n",
       "      <td>풍성로37가길</td>\n",
       "      <td>2607258</td>\n",
       "    </tr>\n",
       "    <tr>\n",
       "      <th>1</th>\n",
       "      <td>천호옛길</td>\n",
       "      <td>3070192</td>\n",
       "    </tr>\n",
       "  </tbody>\n",
       "</table>\n",
       "</div>"
      ],
      "text/plain": [
       "   상권_코드_명  총_유동인구_수\n",
       "0  풍성로37가길   2607258\n",
       "1     천호옛길   3070192"
      ]
     },
     "execution_count": 61,
     "metadata": {},
     "output_type": "execute_result"
    }
   ],
   "source": [
    "commerce_area.head(2)"
   ]
  },
  {
   "cell_type": "code",
   "execution_count": 62,
   "metadata": {},
   "outputs": [],
   "source": [
    "# commerce_area.columns[\"area\",\"all_assenger\"]"
   ]
  },
  {
   "cell_type": "code",
   "execution_count": 63,
   "metadata": {},
   "outputs": [
    {
     "data": {
      "text/plain": [
       "(1010,)"
      ]
     },
     "execution_count": 63,
     "metadata": {},
     "output_type": "execute_result"
    }
   ],
   "source": [
    "commerce_area[\"상권_코드_명\"].unique().shape"
   ]
  },
  {
   "cell_type": "code",
   "execution_count": 64,
   "metadata": {},
   "outputs": [],
   "source": [
    "import re"
   ]
  },
  {
   "cell_type": "code",
   "execution_count": 65,
   "metadata": {},
   "outputs": [],
   "source": [
    "def area_group(x):\n",
    "    pattern=re.compile(\"[0-9]\")\n",
    "    data=re.sub(pattern,\"\",x)\n",
    "    return data"
   ]
  },
  {
   "cell_type": "code",
   "execution_count": 66,
   "metadata": {},
   "outputs": [
    {
     "name": "stderr",
     "output_type": "stream",
     "text": [
      "/anaconda3/lib/python3.6/site-packages/ipykernel_launcher.py:1: SettingWithCopyWarning: \n",
      "A value is trying to be set on a copy of a slice from a DataFrame.\n",
      "Try using .loc[row_indexer,col_indexer] = value instead\n",
      "\n",
      "See the caveats in the documentation: http://pandas.pydata.org/pandas-docs/stable/indexing.html#indexing-view-versus-copy\n",
      "  \"\"\"Entry point for launching an IPython kernel.\n"
     ]
    }
   ],
   "source": [
    "commerce_area[\"상권_코드_명\"]=commerce_area[\"상권_코드_명\"].map(area_group)"
   ]
  },
  {
   "cell_type": "code",
   "execution_count": 67,
   "metadata": {},
   "outputs": [
    {
     "data": {
      "text/plain": [
       "(399,)"
      ]
     },
     "execution_count": 67,
     "metadata": {},
     "output_type": "execute_result"
    }
   ],
   "source": [
    "commerce_area[\"상권_코드_명\"].unique().shape"
   ]
  },
  {
   "cell_type": "code",
   "execution_count": 83,
   "metadata": {},
   "outputs": [
    {
     "data": {
      "text/html": [
       "<div>\n",
       "<style scoped>\n",
       "    .dataframe tbody tr th:only-of-type {\n",
       "        vertical-align: middle;\n",
       "    }\n",
       "\n",
       "    .dataframe tbody tr th {\n",
       "        vertical-align: top;\n",
       "    }\n",
       "\n",
       "    .dataframe thead th {\n",
       "        text-align: right;\n",
       "    }\n",
       "</style>\n",
       "<table border=\"1\" class=\"dataframe\">\n",
       "  <thead>\n",
       "    <tr style=\"text-align: right;\">\n",
       "      <th></th>\n",
       "      <th>상권_코드_명</th>\n",
       "      <th>총_유동인구_수</th>\n",
       "    </tr>\n",
       "  </thead>\n",
       "  <tbody>\n",
       "    <tr>\n",
       "      <th>0</th>\n",
       "      <td>풍성로가길</td>\n",
       "      <td>2607258</td>\n",
       "    </tr>\n",
       "    <tr>\n",
       "      <th>1</th>\n",
       "      <td>천호옛길</td>\n",
       "      <td>3070192</td>\n",
       "    </tr>\n",
       "    <tr>\n",
       "      <th>2</th>\n",
       "      <td>천호옛길</td>\n",
       "      <td>3204360</td>\n",
       "    </tr>\n",
       "    <tr>\n",
       "      <th>3</th>\n",
       "      <td>천호대로길</td>\n",
       "      <td>140226</td>\n",
       "    </tr>\n",
       "    <tr>\n",
       "      <th>4</th>\n",
       "      <td>천호대로길</td>\n",
       "      <td>1461185</td>\n",
       "    </tr>\n",
       "  </tbody>\n",
       "</table>\n",
       "</div>"
      ],
      "text/plain": [
       "  상권_코드_명  총_유동인구_수\n",
       "0   풍성로가길   2607258\n",
       "1    천호옛길   3070192\n",
       "2    천호옛길   3204360\n",
       "3   천호대로길    140226\n",
       "4   천호대로길   1461185"
      ]
     },
     "execution_count": 83,
     "metadata": {},
     "output_type": "execute_result"
    }
   ],
   "source": [
    "commerce_area.head()"
   ]
  },
  {
   "cell_type": "code",
   "execution_count": 92,
   "metadata": {},
   "outputs": [],
   "source": [
    "import seaborn as sns\n",
    "import matplotlib.pyplot as plt"
   ]
  },
  {
   "cell_type": "code",
   "execution_count": 99,
   "metadata": {},
   "outputs": [
    {
     "data": {
      "text/plain": [
       "<matplotlib.axes._subplots.AxesSubplot at 0x1a19c966a0>"
      ]
     },
     "execution_count": 99,
     "metadata": {},
     "output_type": "execute_result"
    },
    {
     "data": {
      "image/png": "[encoded data removed]",
      "text/plain": [
       "<Figure size 1008x360 with 1 Axes>"
      ]
     },
     "metadata": {},
     "output_type": "display_data"
    }
   ],
   "source": [
    "fig, axes = plt.subplots(1,1, figsize=(14,5))\n",
    "sns.countplot('상권_코드_명',data=commerce_area)"
   ]
  },
  {
   "cell_type": "code",
   "execution_count": 72,
   "metadata": {},
   "outputs": [
    {
     "data": {
      "text/plain": [
       "1603497.4457425743"
      ]
     },
     "execution_count": 72,
     "metadata": {},
     "output_type": "execute_result"
    }
   ],
   "source": [
    "commerce_area[\"총_유동인구_수\"].mean()"
   ]
  },
  {
   "cell_type": "code",
   "execution_count": 79,
   "metadata": {},
   "outputs": [],
   "source": [
    "summary=commerce_area[commerce_area[\"총_유동인구_수\"]>1603497]"
   ]
  },
  {
   "cell_type": "code",
   "execution_count": 80,
   "metadata": {},
   "outputs": [
    {
     "data": {
      "text/plain": [
       "<matplotlib.axes._subplots.AxesSubplot at 0x10b3889e8>"
      ]
     },
     "execution_count": 80,
     "metadata": {},
     "output_type": "execute_result"
    },
    {
     "data": {
      "image/png": "[encoded data removed]",
      "text/plain": [
       "<Figure size 1008x360 with 1 Axes>"
      ]
     },
     "metadata": {},
     "output_type": "display_data"
    }
   ],
   "source": [
    "fig, axes = plt.subplots(1,1, figsize=(14,5))\n",
    "sns.countplot('상권_코드_명',data=summary)"
   ]
  },
  {
   "cell_type": "code",
   "execution_count": 82,
   "metadata": {},
   "outputs": [
    {
     "data": {
      "text/plain": [
       "2162"
      ]
     },
     "execution_count": 82,
     "metadata": {},
     "output_type": "execute_result"
    }
   ],
   "source": [
    "summary[\"상권_코드_명\"].count()"
   ]
  },
  {
   "cell_type": "code",
   "execution_count": null,
   "metadata": {},
   "outputs": [],
   "source": [
    "com=commerce_area.groupby(\"상권_코드_명\").sum()"
   ]
  },
  {
   "cell_type": "code",
   "execution_count": null,
   "metadata": {},
   "outputs": [],
   "source": [
    "com.reset_index(level=['상권_코드_명'], inplace = True)"
   ]
  },
  {
   "cell_type": "code",
   "execution_count": null,
   "metadata": {},
   "outputs": [],
   "source": [
    "com.head()"
   ]
  },
  {
   "cell_type": "code",
   "execution_count": 105,
   "metadata": {},
   "outputs": [
    {
     "data": {
      "text/plain": [
       "20294892.483709272"
      ]
     },
     "execution_count": 105,
     "metadata": {},
     "output_type": "execute_result"
    }
   ],
   "source": [
    "com[\"총_유동인구_수\"].mean()"
   ]
  },
  {
   "cell_type": "code",
   "execution_count": 110,
   "metadata": {},
   "outputs": [],
   "source": [
    "com2=com[com[\"총_유동인구_수\"]>20294892]"
   ]
  },
  {
   "cell_type": "code",
   "execution_count": 115,
   "metadata": {},
   "outputs": [
    {
     "data": {
      "text/plain": [
       "<matplotlib.axes._subplots.AxesSubplot at 0x1a1bd42ef0>"
      ]
     },
     "execution_count": 115,
     "metadata": {},
     "output_type": "execute_result"
    },
    {
     "data": {
      "image/png": "[encoded data removed]",
      "text/plain": [
       "<Figure size 1008x360 with 1 Axes>"
      ]
     },
     "metadata": {},
     "output_type": "display_data"
    }
   ],
   "source": [
    "fig, axes = plt.subplots(1,1, figsize=(14,5))\n",
    "sns.barplot(x='상권_코드_명', y='총_유동인구_수', data=com2)"
   ]
  },
  {
   "cell_type": "code",
   "execution_count": 117,
   "metadata": {},
   "outputs": [
    {
     "data": {
      "text/plain": [
       "(133, 2)"
      ]
     },
     "execution_count": 117,
     "metadata": {},
     "output_type": "execute_result"
    }
   ],
   "source": [
    "com2.shape"
   ]
  },
  {
   "cell_type": "code",
   "execution_count": null,
   "metadata": {},
   "outputs": [],
   "source": []
  }
 ],
 "metadata": {
  "kernelspec": {
   "display_name": "Python 3",
   "language": "python",
   "name": "python3"
  },
  "language_info": {
   "codemirror_mode": {
    "name": "ipython",
    "version": 3
   },
   "file_extension": ".py",
   "mimetype": "text/x-python",
   "name": "python",
   "nbconvert_exporter": "python",
   "pygments_lexer": "ipython3",
   "version": "3.6.5"
  }
 },
 "nbformat": 4,
 "nbformat_minor": 2
}
